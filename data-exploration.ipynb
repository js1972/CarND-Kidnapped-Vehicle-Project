{
 "cells": [
  {
   "cell_type": "code",
   "execution_count": 1,
   "metadata": {
    "collapsed": false
   },
   "outputs": [],
   "source": [
    "import pandas as pd\n",
    "from matplotlib import pyplot as plt\n",
    "from matplotlib import animation\n",
    "import math\n",
    "%matplotlib inline"
   ]
  },
  {
   "cell_type": "code",
   "execution_count": 2,
   "metadata": {
    "collapsed": false
   },
   "outputs": [],
   "source": [
    "m = pd.read_csv('data/map_data.txt', sep='\\t', header=None)"
   ]
  },
  {
   "cell_type": "code",
   "execution_count": 3,
   "metadata": {
    "collapsed": false
   },
   "outputs": [],
   "source": [
    "m.columns = ['x','y', 'id']"
   ]
  },
  {
   "cell_type": "code",
   "execution_count": 4,
   "metadata": {
    "collapsed": false
   },
   "outputs": [
    {
     "data": {
      "text/html": [
       "<div>\n",
       "<table border=\"1\" class=\"dataframe\">\n",
       "  <thead>\n",
       "    <tr style=\"text-align: right;\">\n",
       "      <th></th>\n",
       "      <th>x</th>\n",
       "      <th>y</th>\n",
       "      <th>id</th>\n",
       "    </tr>\n",
       "  </thead>\n",
       "  <tbody>\n",
       "    <tr>\n",
       "      <th>0</th>\n",
       "      <td>92.0640</td>\n",
       "      <td>-34.7770</td>\n",
       "      <td>1</td>\n",
       "    </tr>\n",
       "    <tr>\n",
       "      <th>1</th>\n",
       "      <td>61.1090</td>\n",
       "      <td>-47.1320</td>\n",
       "      <td>2</td>\n",
       "    </tr>\n",
       "    <tr>\n",
       "      <th>2</th>\n",
       "      <td>17.4200</td>\n",
       "      <td>-4.5993</td>\n",
       "      <td>3</td>\n",
       "    </tr>\n",
       "    <tr>\n",
       "      <th>3</th>\n",
       "      <td>-7.1285</td>\n",
       "      <td>-34.5400</td>\n",
       "      <td>4</td>\n",
       "    </tr>\n",
       "    <tr>\n",
       "      <th>4</th>\n",
       "      <td>232.3200</td>\n",
       "      <td>32.0320</td>\n",
       "      <td>5</td>\n",
       "    </tr>\n",
       "  </tbody>\n",
       "</table>\n",
       "</div>"
      ],
      "text/plain": [
       "          x        y  id\n",
       "0   92.0640 -34.7770   1\n",
       "1   61.1090 -47.1320   2\n",
       "2   17.4200  -4.5993   3\n",
       "3   -7.1285 -34.5400   4\n",
       "4  232.3200  32.0320   5"
      ]
     },
     "execution_count": 4,
     "metadata": {},
     "output_type": "execute_result"
    }
   ],
   "source": [
    "m.head()"
   ]
  },
  {
   "cell_type": "code",
   "execution_count": 5,
   "metadata": {
    "collapsed": false
   },
   "outputs": [
    {
     "data": {
      "text/plain": [
       "<matplotlib.axes._subplots.AxesSubplot at 0x1105b77f0>"
      ]
     },
     "execution_count": 5,
     "metadata": {},
     "output_type": "execute_result"
    },
    {
     "data": {
      "image/png": "[encoded data removed]",
      "text/plain": [
       "<matplotlib.figure.Figure at 0x110585f28>"
      ]
     },
     "metadata": {},
     "output_type": "display_data"
    }
   ],
   "source": [
    "m.plot.scatter('x','y')"
   ]
  },
  {
   "cell_type": "code",
   "execution_count": null,
   "metadata": {
    "collapsed": true
   },
   "outputs": [],
   "source": []
  },
  {
   "cell_type": "code",
   "execution_count": null,
   "metadata": {
    "collapsed": true
   },
   "outputs": [],
   "source": []
  },
  {
   "cell_type": "code",
   "execution_count": 6,
   "metadata": {
    "collapsed": false
   },
   "outputs": [],
   "source": [
    "controls = pd.read_csv('data/control_data.txt', sep=' ', header=None)"
   ]
  },
  {
   "cell_type": "code",
   "execution_count": 7,
   "metadata": {
    "collapsed": false
   },
   "outputs": [],
   "source": [
    "controls.columns = ['v','phi']"
   ]
  },
  {
   "cell_type": "code",
   "execution_count": 8,
   "metadata": {
    "collapsed": false
   },
   "outputs": [
    {
     "data": {
      "text/html": [
       "<div>\n",
       "<table border=\"1\" class=\"dataframe\">\n",
       "  <thead>\n",
       "    <tr style=\"text-align: right;\">\n",
       "      <th></th>\n",
       "      <th>v</th>\n",
       "      <th>phi</th>\n",
       "    </tr>\n",
       "  </thead>\n",
       "  <tbody>\n",
       "    <tr>\n",
       "      <th>0</th>\n",
       "      <td>3.9611</td>\n",
       "      <td>3.093700</td>\n",
       "    </tr>\n",
       "    <tr>\n",
       "      <th>1</th>\n",
       "      <td>4.0378</td>\n",
       "      <td>-0.008101</td>\n",
       "    </tr>\n",
       "    <tr>\n",
       "      <th>2</th>\n",
       "      <td>4.1173</td>\n",
       "      <td>0.005551</td>\n",
       "    </tr>\n",
       "    <tr>\n",
       "      <th>3</th>\n",
       "      <td>4.2066</td>\n",
       "      <td>0.011087</td>\n",
       "    </tr>\n",
       "    <tr>\n",
       "      <th>4</th>\n",
       "      <td>4.3007</td>\n",
       "      <td>-0.001022</td>\n",
       "    </tr>\n",
       "  </tbody>\n",
       "</table>\n",
       "</div>"
      ],
      "text/plain": [
       "        v       phi\n",
       "0  3.9611  3.093700\n",
       "1  4.0378 -0.008101\n",
       "2  4.1173  0.005551\n",
       "3  4.2066  0.011087\n",
       "4  4.3007 -0.001022"
      ]
     },
     "execution_count": 8,
     "metadata": {},
     "output_type": "execute_result"
    }
   ],
   "source": [
    "controls.head()"
   ]
  },
  {
   "cell_type": "code",
   "execution_count": 9,
   "metadata": {
    "collapsed": false
   },
   "outputs": [
    {
     "data": {
      "image/png": "[encoded data removed]",
      "text/plain": [
       "<matplotlib.figure.Figure at 0x110661828>"
      ]
     },
     "metadata": {},
     "output_type": "display_data"
    }
   ],
   "source": [
    "plt.plot(controls.v);"
   ]
  },
  {
   "cell_type": "code",
   "execution_count": 10,
   "metadata": {
    "collapsed": false
   },
   "outputs": [
    {
     "data": {
      "image/png": "[encoded data removed]",
      "text/plain": [
       "<matplotlib.figure.Figure at 0x1126a1278>"
      ]
     },
     "metadata": {},
     "output_type": "display_data"
    }
   ],
   "source": [
    "plt.plot(controls.phi);"
   ]
  },
  {
   "cell_type": "code",
   "execution_count": null,
   "metadata": {
    "collapsed": true
   },
   "outputs": [],
   "source": []
  },
  {
   "cell_type": "code",
   "execution_count": null,
   "metadata": {
    "collapsed": true
   },
   "outputs": [],
   "source": []
  },
  {
   "cell_type": "code",
   "execution_count": null,
   "metadata": {
    "collapsed": true
   },
   "outputs": [],
   "source": []
  },
  {
   "cell_type": "code",
   "execution_count": 11,
   "metadata": {
    "collapsed": false
   },
   "outputs": [],
   "source": [
    "gt = pd.read_csv('data/gt_data.txt', sep=' ', header=None)"
   ]
  },
  {
   "cell_type": "code",
   "execution_count": 12,
   "metadata": {
    "collapsed": false
   },
   "outputs": [],
   "source": [
    "gt.columns = ['x','y','azimuth']"
   ]
  },
  {
   "cell_type": "code",
   "execution_count": 13,
   "metadata": {
    "collapsed": false
   },
   "outputs": [
    {
     "data": {
      "text/html": [
       "<div>\n",
       "<table border=\"1\" class=\"dataframe\">\n",
       "  <thead>\n",
       "    <tr style=\"text-align: right;\">\n",
       "      <th></th>\n",
       "      <th>x</th>\n",
       "      <th>y</th>\n",
       "      <th>azimuth</th>\n",
       "    </tr>\n",
       "  </thead>\n",
       "  <tbody>\n",
       "    <tr>\n",
       "      <th>0</th>\n",
       "      <td>6.2785</td>\n",
       "      <td>1.9598</td>\n",
       "      <td>0.00000</td>\n",
       "    </tr>\n",
       "    <tr>\n",
       "      <th>1</th>\n",
       "      <td>6.6632</td>\n",
       "      <td>2.0825</td>\n",
       "      <td>0.30937</td>\n",
       "    </tr>\n",
       "    <tr>\n",
       "      <th>2</th>\n",
       "      <td>7.0554</td>\n",
       "      <td>2.2076</td>\n",
       "      <td>0.30856</td>\n",
       "    </tr>\n",
       "    <tr>\n",
       "      <th>3</th>\n",
       "      <td>7.4561</td>\n",
       "      <td>2.3358</td>\n",
       "      <td>0.30912</td>\n",
       "    </tr>\n",
       "    <tr>\n",
       "      <th>4</th>\n",
       "      <td>7.8656</td>\n",
       "      <td>2.4671</td>\n",
       "      <td>0.31022</td>\n",
       "    </tr>\n",
       "  </tbody>\n",
       "</table>\n",
       "</div>"
      ],
      "text/plain": [
       "        x       y  azimuth\n",
       "0  6.2785  1.9598  0.00000\n",
       "1  6.6632  2.0825  0.30937\n",
       "2  7.0554  2.2076  0.30856\n",
       "3  7.4561  2.3358  0.30912\n",
       "4  7.8656  2.4671  0.31022"
      ]
     },
     "execution_count": 13,
     "metadata": {},
     "output_type": "execute_result"
    }
   ],
   "source": [
    "gt.head()"
   ]
  },
  {
   "cell_type": "code",
   "execution_count": 14,
   "metadata": {
    "collapsed": false
   },
   "outputs": [
    {
     "data": {
      "image/png": "[encoded data removed]",
      "text/plain": [
       "<matplotlib.figure.Figure at 0x1127bf6a0>"
      ]
     },
     "metadata": {},
     "output_type": "display_data"
    }
   ],
   "source": [
    "plt.plot(gt.x, gt.y);"
   ]
  },
  {
   "cell_type": "code",
   "execution_count": 15,
   "metadata": {
    "collapsed": false
   },
   "outputs": [
    {
     "data": {
      "image/png": "[encoded data removed]",
      "text/plain": [
       "<matplotlib.figure.Figure at 0x112b567b8>"
      ]
     },
     "metadata": {},
     "output_type": "display_data"
    }
   ],
   "source": [
    "plt.plot(gt.azimuth);"
   ]
  },
  {
   "cell_type": "code",
   "execution_count": null,
   "metadata": {
    "collapsed": true
   },
   "outputs": [],
   "source": []
  },
  {
   "cell_type": "code",
   "execution_count": null,
   "metadata": {
    "collapsed": true
   },
   "outputs": [],
   "source": []
  },
  {
   "cell_type": "code",
   "execution_count": null,
   "metadata": {
    "collapsed": true
   },
   "outputs": [],
   "source": []
  },
  {
   "cell_type": "code",
   "execution_count": null,
   "metadata": {
    "collapsed": true
   },
   "outputs": [],
   "source": []
  },
  {
   "cell_type": "code",
   "execution_count": null,
   "metadata": {
    "collapsed": true
   },
   "outputs": [],
   "source": []
  },
  {
   "cell_type": "code",
   "execution_count": 16,
   "metadata": {
    "collapsed": true
   },
   "outputs": [],
   "source": [
    "obs_i=238"
   ]
  },
  {
   "cell_type": "code",
   "execution_count": 17,
   "metadata": {
    "collapsed": false
   },
   "outputs": [],
   "source": [
    "obs_file = \"./data/observation/observations_\"+'{0:06d}'.format(obs_i)+\".txt\"\n",
    "obs = pd.read_csv(obs_file, sep=' ', header=None)\n",
    "obs.columns = ['x_car','y_car']\n",
    "car = gt.loc[obs_i-1]\n",
    "obs['x'] = obs.x_car * math.cos(car.azimuth) - obs.y_car * math.sin(car.azimuth) + car.x\n",
    "obs['y'] = obs.x_car * math.sin(car.azimuth) + obs.y_car * math.cos(car.azimuth) + car.y"
   ]
  },
  {
   "cell_type": "code",
   "execution_count": 18,
   "metadata": {
    "collapsed": false
   },
   "outputs": [
    {
     "data": {
      "text/html": [
       "<div>\n",
       "<table border=\"1\" class=\"dataframe\">\n",
       "  <thead>\n",
       "    <tr style=\"text-align: right;\">\n",
       "      <th></th>\n",
       "      <th>x_car</th>\n",
       "      <th>y_car</th>\n",
       "      <th>x</th>\n",
       "      <th>y</th>\n",
       "    </tr>\n",
       "  </thead>\n",
       "  <tbody>\n",
       "    <tr>\n",
       "      <th>0</th>\n",
       "      <td>9.41010</td>\n",
       "      <td>-4.3444</td>\n",
       "      <td>264.506029</td>\n",
       "      <td>24.453285</td>\n",
       "    </tr>\n",
       "    <tr>\n",
       "      <th>1</th>\n",
       "      <td>0.44983</td>\n",
       "      <td>-18.9100</td>\n",
       "      <td>255.667632</td>\n",
       "      <td>9.813413</td>\n",
       "    </tr>\n",
       "    <tr>\n",
       "      <th>2</th>\n",
       "      <td>19.33100</td>\n",
       "      <td>2.3161</td>\n",
       "      <td>274.370997</td>\n",
       "      <td>31.196350</td>\n",
       "    </tr>\n",
       "    <tr>\n",
       "      <th>3</th>\n",
       "      <td>-22.70800</td>\n",
       "      <td>3.5020</td>\n",
       "      <td>232.323564</td>\n",
       "      <td>32.031364</td>\n",
       "    </tr>\n",
       "    <tr>\n",
       "      <th>4</th>\n",
       "      <td>23.80600</td>\n",
       "      <td>-7.0001</td>\n",
       "      <td>278.923592</td>\n",
       "      <td>21.917822</td>\n",
       "    </tr>\n",
       "  </tbody>\n",
       "</table>\n",
       "</div>"
      ],
      "text/plain": [
       "      x_car    y_car           x          y\n",
       "0   9.41010  -4.3444  264.506029  24.453285\n",
       "1   0.44983 -18.9100  255.667632   9.813413\n",
       "2  19.33100   2.3161  274.370997  31.196350\n",
       "3 -22.70800   3.5020  232.323564  32.031364\n",
       "4  23.80600  -7.0001  278.923592  21.917822"
      ]
     },
     "execution_count": 18,
     "metadata": {},
     "output_type": "execute_result"
    }
   ],
   "source": [
    "obs.head()"
   ]
  },
  {
   "cell_type": "code",
   "execution_count": 19,
   "metadata": {
    "collapsed": false
   },
   "outputs": [
    {
     "name": "stdout",
     "output_type": "stream",
     "text": [
      "./output/particles238.txt\n"
     ]
    }
   ],
   "source": [
    "#particles_file = \"./output/particles\"+'{0:06d}'.format(obs_i)+\".txt\"\n",
    "particles_file = \"./output/particles\"+'{}'.format(obs_i)+\".txt\"\n",
    "print(particles_file)\n",
    "particles = pd.read_csv(particles_file, sep=' ', header=None)\n",
    "particles.columns = ['x','y','theta','weight']"
   ]
  },
  {
   "cell_type": "code",
   "execution_count": 20,
   "metadata": {
    "collapsed": false
   },
   "outputs": [
    {
     "data": {
      "text/html": [
       "<div>\n",
       "<table border=\"1\" class=\"dataframe\">\n",
       "  <thead>\n",
       "    <tr style=\"text-align: right;\">\n",
       "      <th></th>\n",
       "      <th>x</th>\n",
       "      <th>y</th>\n",
       "      <th>theta</th>\n",
       "      <th>weight</th>\n",
       "    </tr>\n",
       "  </thead>\n",
       "  <tbody>\n",
       "    <tr>\n",
       "      <th>0</th>\n",
       "      <td>255.785</td>\n",
       "      <td>28.7726</td>\n",
       "      <td>6.27572</td>\n",
       "      <td>0.129331</td>\n",
       "    </tr>\n",
       "    <tr>\n",
       "      <th>1</th>\n",
       "      <td>255.864</td>\n",
       "      <td>28.7197</td>\n",
       "      <td>6.27482</td>\n",
       "      <td>0.609395</td>\n",
       "    </tr>\n",
       "    <tr>\n",
       "      <th>2</th>\n",
       "      <td>255.864</td>\n",
       "      <td>28.7197</td>\n",
       "      <td>6.27482</td>\n",
       "      <td>0.609395</td>\n",
       "    </tr>\n",
       "    <tr>\n",
       "      <th>3</th>\n",
       "      <td>255.864</td>\n",
       "      <td>28.7197</td>\n",
       "      <td>6.27482</td>\n",
       "      <td>0.609395</td>\n",
       "    </tr>\n",
       "    <tr>\n",
       "      <th>4</th>\n",
       "      <td>255.864</td>\n",
       "      <td>28.7197</td>\n",
       "      <td>6.27482</td>\n",
       "      <td>0.609395</td>\n",
       "    </tr>\n",
       "  </tbody>\n",
       "</table>\n",
       "</div>"
      ],
      "text/plain": [
       "         x        y    theta    weight\n",
       "0  255.785  28.7726  6.27572  0.129331\n",
       "1  255.864  28.7197  6.27482  0.609395\n",
       "2  255.864  28.7197  6.27482  0.609395\n",
       "3  255.864  28.7197  6.27482  0.609395\n",
       "4  255.864  28.7197  6.27482  0.609395"
      ]
     },
     "execution_count": 20,
     "metadata": {},
     "output_type": "execute_result"
    }
   ],
   "source": [
    "particles.head()"
   ]
  },
  {
   "cell_type": "code",
   "execution_count": 21,
   "metadata": {
    "collapsed": false
   },
   "outputs": [
    {
     "data": {
      "text/plain": [
       "[255.06, 255.06, 255.06, 255.06, 255.06, 255.06, 255.06, 255.06, 255.06]"
      ]
     },
     "execution_count": 21,
     "metadata": {},
     "output_type": "execute_result"
    }
   ],
   "source": [
    "[car.x]*len(obs)"
   ]
  },
  {
   "cell_type": "code",
   "execution_count": 22,
   "metadata": {
    "collapsed": false
   },
   "outputs": [
    {
     "data": {
      "text/plain": [
       "[255.06,\n",
       " 264.50602935660083,\n",
       " 255.06,\n",
       " 255.6676315801538,\n",
       " 255.06,\n",
       " 274.37099729586413,\n",
       " 255.06,\n",
       " 232.32356417619252,\n",
       " 255.06,\n",
       " 278.9235916889449,\n",
       " 255.06,\n",
       " 278.00048352926177,\n",
       " 255.06,\n",
       " 286.8902451702929,\n",
       " 255.06,\n",
       " 267.324218435312,\n",
       " 255.06,\n",
       " 205.389199069899]"
      ]
     },
     "execution_count": 22,
     "metadata": {},
     "output_type": "execute_result"
    }
   ],
   "source": [
    "[val for pair in zip([car.x]*len(obs), obs.x.tolist()) for val in pair]"
   ]
  },
  {
   "cell_type": "code",
   "execution_count": 23,
   "metadata": {
    "collapsed": false
   },
   "outputs": [
    {
     "data": {
      "image/png": "[encoded data removed]",
      "text/plain": [
       "<matplotlib.figure.Figure at 0x1127bab00>"
      ]
     },
     "metadata": {},
     "output_type": "display_data"
    }
   ],
   "source": [
    "p1 = plt.plot(m.x.tolist(), m.y.tolist(), 'ro')\n",
    "#p2 = plt.plot(obs.x_car.tolist(),obs.y_car.tolist(), 'go')\n",
    "p3 = plt.plot(obs.x.tolist(),obs.y.tolist(), 'bo')\n",
    "p4 = plt.plot(particles.x, particles.y, 'yo')\n",
    "p5 = plt.plot(car.x, car.y, 'co')\n",
    "linex = [val for pair in zip([car.x]*len(obs), obs.x.tolist()) for val in pair]\n",
    "liney = [val for pair in zip([car.y]*len(obs), obs.y.tolist()) for val in pair]\n",
    "p6 = plt.plot(linex, liney)\n",
    "\n",
    "plt.title('Map')\n",
    "#plt.legend((p1[0], p2[0], p3[0], p4[0], p5[0]), ('Landmarks', 'observations in vehicle coordinates', 'observations in map coordinates', 'particles', 'vehicle'))\n",
    "plt.legend((p1[0], p3[0], p4[0], p5[0], p6[0]), ('Landmarks', 'observations in map coordinates', 'particles', 'vehicle'))\n",
    "plt.show()"
   ]
  },
  {
   "cell_type": "code",
   "execution_count": null,
   "metadata": {
    "collapsed": true
   },
   "outputs": [],
   "source": []
  },
  {
   "cell_type": "code",
   "execution_count": null,
   "metadata": {
    "collapsed": true
   },
   "outputs": [],
   "source": []
  },
  {
   "cell_type": "markdown",
   "metadata": {
    "collapsed": true
   },
   "source": [
    "# Animation"
   ]
  },
  {
   "cell_type": "code",
   "execution_count": 24,
   "metadata": {
    "collapsed": true
   },
   "outputs": [],
   "source": [
    "N = len(gt)-1"
   ]
  },
  {
   "cell_type": "code",
   "execution_count": 25,
   "metadata": {
    "collapsed": false
   },
   "outputs": [
    {
     "data": {
      "text/plain": [
       "2443"
      ]
     },
     "execution_count": 25,
     "metadata": {},
     "output_type": "execute_result"
    }
   ],
   "source": [
    "N"
   ]
  },
  {
   "cell_type": "code",
   "execution_count": 26,
   "metadata": {
    "collapsed": false
   },
   "outputs": [
    {
     "data": {
      "image/png": "[encoded data removed]",
      "text/plain": [
       "<matplotlib.figure.Figure at 0x112a550f0>"
      ]
     },
     "metadata": {},
     "output_type": "display_data"
    }
   ],
   "source": [
    "# First set up the figure, the axis, and the plot element we want to animate\n",
    "fig = plt.figure();\n",
    "padding = 25\n",
    "ax = plt.axes(xlim=(min(gt.x)-padding, max(gt.x)+padding), ylim=(min(gt.y)-padding, max(gt.y)+padding));\n",
    "\n",
    "textTime = ax.text(min(gt.x), max(gt.y), 't = ')\n",
    "p_m, = plt.plot(m.x.tolist(), m.y.tolist(), 'ro', ms=5)\n",
    "p_obs, = plt.plot(obs.x.tolist(),obs.y.tolist(), 'bo', alpha=0.2, ms=10)\n",
    "p_p, = plt.plot(particles.x, particles.y, 'yo', alpha=0.3)\n",
    "p_car, = plt.plot(car.x, car.y, 'co', ms=3)\n",
    "p_path, = plt.plot(gt.x, gt.y, 'k', alpha=.1)\n",
    "linex = [val for pair in zip([car.x]*len(obs), obs.x.tolist()) for val in pair]\n",
    "liney = [val for pair in zip([car.y]*len(obs), obs.y.tolist()) for val in pair]\n",
    "p_lines, = plt.plot(linex, liney, alpha=.2)\n",
    "\n",
    "plt.title('Map')\n",
    "plt.legend((p_m, p_obs, p_p, p_car), \n",
    "           ('Landmarks', 'Observations', 'Particles', 'Vehicle'));"
   ]
  },
  {
   "cell_type": "code",
   "execution_count": 27,
   "metadata": {
    "collapsed": true
   },
   "outputs": [],
   "source": [
    "# initialization function: plot the background of each frame\n",
    "def init():\n",
    "    textTime.set_text('t = ')\n",
    "    \n",
    "    p_m.set_data([], [])\n",
    "    p_obs.set_data([], [])\n",
    "    p_p.set_data([], [])\n",
    "    p_car.set_data([], [])\n",
    "    p_path.set_data([], [])\n",
    "    p_lines.set_data([],[])\n",
    "\n",
    "    return textTime, p_m, p_obs, p_p, p_car, p_path, p_lines"
   ]
  },
  {
   "cell_type": "code",
   "execution_count": 28,
   "metadata": {
    "collapsed": true
   },
   "outputs": [],
   "source": [
    "def read_data(obs_i):\n",
    "    obs_file = \"./data/observation/observations_\"+'{0:06d}'.format(obs_i)+\".txt\"\n",
    "    obs = pd.read_csv(obs_file, sep=' ', header=None)\n",
    "    obs.columns = ['x_car','y_car']\n",
    "\n",
    "    car = gt.loc[obs_i-1]\n",
    "\n",
    "    obs['x'] = obs.x_car * math.cos(car.azimuth) - obs.y_car * math.sin(car.azimuth) + car.x\n",
    "    obs['y'] = obs.x_car * math.sin(car.azimuth) + obs.y_car * math.cos(car.azimuth) + car.y\n",
    "\n",
    "    particles_file = \"./output/particles\"+'{}'.format(obs_i)+\".txt\"\n",
    "    particles = pd.read_csv(particles_file, sep=' ', header=None)\n",
    "    particles.columns = ['x','y','theta','weight']\n",
    "\n",
    "    return obs, particles, car"
   ]
  },
  {
   "cell_type": "code",
   "execution_count": 29,
   "metadata": {
    "collapsed": true
   },
   "outputs": [],
   "source": [
    "# animation function.  This is called sequentially\n",
    "def animate(i):\n",
    "    textTime.set_text('t = {0}'.format(i))\n",
    "\n",
    "    p_m.set_data(m.x.tolist(), m.y.tolist())\n",
    "\n",
    "    obs, particles, car = read_data(i+1)\n",
    "    p_obs.set_data(obs.x.tolist(), obs.y.tolist())\n",
    "    p_p.set_data(particles.x.tolist(), particles.y.tolist())\n",
    "    p_car.set_data(car.x, car.y)\n",
    "\n",
    "    p_path.set_data(gt.x.tolist()[:i], gt.y.tolist()[:i])\n",
    "\n",
    "    linex = [val for pair in zip([car.x]*len(obs), obs.x.tolist()) for val in pair]\n",
    "    liney = [val for pair in zip([car.y]*len(obs), obs.y.tolist()) for val in pair]\n",
    "    p_lines.set_data(linex, liney)\n",
    "    \n",
    "    return textTime, p_m, p_obs, p_p, p_car, p_path, p_lines"
   ]
  },
  {
   "cell_type": "code",
   "execution_count": 30,
   "metadata": {
    "collapsed": false
   },
   "outputs": [],
   "source": [
    "# call the animator.  blit=True means only re-draw the parts that have changed.\n",
    "anim = animation.FuncAnimation(fig, \n",
    "                               animate, \n",
    "                               init_func=init,\n",
    "                               frames=N, \n",
    "#                               interval=20, # delay in ms\n",
    "                               blit=True)"
   ]
  },
  {
   "cell_type": "code",
   "execution_count": 31,
   "metadata": {
    "collapsed": true
   },
   "outputs": [],
   "source": [
    "# brew install ffmpeg"
   ]
  },
  {
   "cell_type": "code",
   "execution_count": 32,
   "metadata": {
    "collapsed": false,
    "scrolled": false
   },
   "outputs": [
    {
     "name": "stdout",
     "output_type": "stream",
     "text": [
      "CPU times: user 4min 12s, sys: 53.7 s, total: 5min 6s\n",
      "Wall time: 2min 34s\n"
     ]
    }
   ],
   "source": [
    "%time anim.save('particle_animation.mp4', fps=10, extra_args=['-vcodec', 'libx264'])"
   ]
  },
  {
   "cell_type": "code",
   "execution_count": null,
   "metadata": {
    "collapsed": true
   },
   "outputs": [],
   "source": []
  },
  {
   "cell_type": "code",
   "execution_count": null,
   "metadata": {
    "collapsed": true
   },
   "outputs": [],
   "source": []
  }
 ],
 "metadata": {
  "kernelspec": {
   "display_name": "Python 3",
   "language": "python",
   "name": "python3"
  },
  "language_info": {
   "codemirror_mode": {
    "name": "ipython",
    "version": 3
   },
   "file_extension": ".py",
   "mimetype": "text/x-python",
   "name": "python",
   "nbconvert_exporter": "python",
   "pygments_lexer": "ipython3",
   "version": "3.5.2"
  },
  "widgets": {
   "state": {},
   "version": "1.1.2"
  }
 },
 "nbformat": 4,
 "nbformat_minor": 2
}
